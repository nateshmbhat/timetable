{
 "cells": [
  {
   "cell_type": "code",
   "execution_count": 32,
   "metadata": {},
   "outputs": [],
   "source": [
    "import pandas as pd ; \n",
    "import numpy as np \n",
    "import time , os , sys , random\n",
    "import sqlite3 , re\n",
    "\n",
    "\n",
    "def convert_db_data_to_csv(table_name , connection  , path = './data/' , filename=\"mydata.csv\" ):\n",
    "    df = pd.DataFrame(pd.read_sql('select * from '+table_name , connection)) ; \n",
    "    df.to_csv(os.path.join(path , filename)) ;\n",
    "    "
   ]
  },
  {
   "cell_type": "code",
   "execution_count": 33,
   "metadata": {},
   "outputs": [],
   "source": [
    "class allotment:\n",
    "    def __init__(self , subjectid ,  facultyid1 , facultyid2 , roomid , dayno , hour , subjectname='' ):\n",
    "        self.subjectid =subjectid ; \n",
    "        self.subjectname = subjectname\n",
    "        self.facultyid1 = facultyid1\n",
    "        self.facultyid2 = facultyid2\n",
    "        self.roomid = roomid\n",
    "        self.dayno = dayno\n",
    "        self.hour = hour\n",
    "        \n",
    "\n",
    "class faculty:\n",
    "    def __init__(self , fid , fname , ftype):\n",
    "        self.id , self.name , self.type = fid , fname , ftype ; \n",
    "    def __str__(self):\n",
    "        return \"< ID : {} , Name : {}  , type : {}  >\".format(self.id , self.name , self.type) ;\n",
    "    def __repr__(self):\n",
    "        return self.__str__() ;\n",
    "        \n",
    "        \n",
    "\n",
    "\n",
    "class Timetable:\n",
    "    \n",
    "    def __init__(self):\n",
    "        self.faculty_data = pd.read_csv(\"data/faculty.csv\") ; \n",
    "        self.room_data = pd.read_csv('data/room.csv') ; \n",
    "        self.subject_data = pd.read_csv('data/subject.csv') ;\n",
    "        self.test_data = pd.read_csv('data/test.csv') ;\n",
    "        \n",
    "        self.faculty_data = self.faculty_data[['facultyId' , 'facultyName' , 'facultyType']]\n",
    "        self.room_data = self.room_data[['roomId' , 'roomType' , 'roomNo']]\n",
    "        self.subject_data = self.subject_data[['subjectId' , 'subjectName' , 'subjectType' , 'credits']]\n",
    "        self.test_data = self.test_data[['batchID' , 'subjectID' , 'facultyID1' , 'facultyID2']]\n",
    "        self.sectionslist = self.get_sections_from_batches() ;  \n",
    "        \n",
    "        self.allotments = []\n",
    "        \n",
    "        self.create_faculty_objects() ; \n",
    "        self.init_faculties() ;\n",
    "        \n",
    "    def get_sections_from_batches(self):\n",
    "        '''Assume the string till last but one char as the section name and if there is only 1 char take that as section name'''\n",
    "        def myfun(x , compiledre):\n",
    "            if(len(x)==1):\n",
    "                return x ;\n",
    "            else:\n",
    "                if(compiledre.match(x)):\n",
    "                    return x;  \n",
    "        \n",
    "        compiledre = re.compile('^.*?[a-zA-Z]$') ;\n",
    "        sections = self.test_data.batchID.apply(lambda x : myfun(x , compiledre)) ;\n",
    "        sectionslist = sections[sections.apply(lambda x : True if x else False)].unique()\n",
    "        return sectionslist \n",
    "        \n",
    "\n",
    "        \n",
    "    def init_faculties(self):\n",
    "        '''Initialize the faculties to be not allocated to all the hours of all days'''        \n",
    "        self.faculty_to_day_hour_slot_map = {}\n",
    "        day_to_hour = {}\n",
    "        faculty_to_data = {} \n",
    "\n",
    "        hour_to_allotflag = {}\n",
    "        for hour in range(8):\n",
    "            hour_to_allotflag.update({hour : {'alloted ': False}}) ;\n",
    "\n",
    "        for day in ['mon' , 'tue' , 'wed' , 'thu' , 'fri' , 'sat']:\n",
    "            day_to_hour.update({day : hour_to_allotflag}) ;\n",
    "\n",
    "        for faculty_object in self.faculties:\n",
    "            self.faculty_to_day_hour_slot_map.update({faculty_object : day_to_hour}) ;\n",
    "            \n",
    "                    \n",
    "    \n",
    "    def allot_slots(self):\n",
    "        pass;\n",
    "    \n",
    "    \n",
    "    def create_faculty_objects(self):\n",
    "        '''Create facultie objects using the data ''' \n",
    "        self.faculties = set() ;\n",
    "        for i in range(self.faculty_data.count().facultyId):\n",
    "            self.faculties.add(faculty(self.faculty_data.loc[i].facultyId , self.faculty_data.loc[i].facultyName , self.faculty_data.loc[i].facultyType))\n",
    "                \n",
    "        \n",
    "                    \n",
    "    \n",
    "    def check_allotment_validity(self , allotment ):\n",
    "        for allots in self.allotments:\n",
    "            pass ; \n",
    "            \n"
   ]
  },
  {
   "cell_type": "code",
   "execution_count": 34,
   "metadata": {},
   "outputs": [],
   "source": [
    "faculty_data = pd.read_csv(\"data/faculty.csv\") ; \n",
    "room_data = pd.read_csv('data/room.csv') ; \n",
    "subject_data = pd.read_csv('data/subject.csv') ;\n",
    "test_data = pd.read_csv('data/test.csv') ;"
   ]
  },
  {
   "cell_type": "code",
   "execution_count": 12,
   "metadata": {
    "scrolled": false
   },
   "outputs": [],
   "source": [
    "faculty_data = faculty_data[['facultyId' , 'facultyName' , 'facultyType']]\n",
    "room_data = room_data[['roomId' , 'roomType' , 'roomNo']]\n",
    "subject_data = subject_data[['subjectId' , 'subjectName' , 'subjectType' , 'credits']]\n",
    "test_data = test_data[['batchID' , 'subjectID' , 'facultyID1' , 'facultyID2']]\n"
   ]
  },
  {
   "cell_type": "code",
   "execution_count": 26,
   "metadata": {},
   "outputs": [],
   "source": [
    "obj = Timetable()\n"
   ]
  },
  {
   "cell_type": "code",
   "execution_count": 30,
   "metadata": {},
   "outputs": [
    {
     "data": {
      "text/plain": [
       "array(['4A', '4B', '4C', '6A', '6B', '6C', '8', 'M-CNE', 'M-CSE'],\n",
       "      dtype=object)"
      ]
     },
     "execution_count": 30,
     "metadata": {},
     "output_type": "execute_result"
    }
   ],
   "source": [
    "obj.sectionslist"
   ]
  }
 ],
 "metadata": {
  "kernelspec": {
   "display_name": "Python 3",
   "language": "python",
   "name": "python3"
  },
  "language_info": {
   "codemirror_mode": {
    "name": "ipython",
    "version": 3
   },
   "file_extension": ".py",
   "mimetype": "text/x-python",
   "name": "python",
   "nbconvert_exporter": "python",
   "pygments_lexer": "ipython3",
   "version": "3.6.5"
  }
 },
 "nbformat": 4,
 "nbformat_minor": 2
}
