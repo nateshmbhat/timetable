{
 "cells": [
  {
   "cell_type": "code",
   "execution_count": 12,
   "metadata": {},
   "outputs": [],
   "source": [
    "import pandas as pd ; \n",
    "import numpy as np \n",
    "import time , os , sys , random\n",
    "import sqlite3\n",
    "\n",
    "\n",
    "def convert_db_data_to_csv(table_name , connection  , path = './data/' , filename=\"mydata.csv\" ):\n",
    "    df = pd.DataFrame(pd.read_sql('select * from '+table_name , connection)) ; \n",
    "    df.to_csv(os.path.join(path , filename)) ; \n",
    "\n",
    "\n",
    "\n"
   ]
  },
  {
   "cell_type": "code",
   "execution_count": 101,
   "metadata": {},
   "outputs": [],
   "source": [
    "class allotment:\n",
    "    def __init__(self , subjectid ,  facultyid1 , facultyid2 , roomid , dayno , hour , subjectname='' ):\n",
    "        self.subjectid =subjectid ; \n",
    "        self.subjectname = subjectname\n",
    "        self.facultyid1 = facultyid1\n",
    "        self.facultyid2 = facultyid2\n",
    "        self.roomid = roomid\n",
    "        self.dayno = dayno\n",
    "        self.hour = hour\n",
    "        \n",
    "\n",
    "class faculty:\n",
    "    def __init__(self , fid , fname , ftype):\n",
    "        self.id , self.name , self.type = fid , fname , ftype ; \n",
    "    def __str__(self):\n",
    "        return \"< ID : {} , Name : {}  , type : {}  >\".format(self.id , self.name , self.type) ;\n",
    "    def __repr__(self):\n",
    "        return self.__str__() ;\n",
    "        \n",
    "        \n",
    "\n",
    "\n",
    "class Timetable:\n",
    "    def __init__(self):\n",
    "        self.faculty_data = pd.read_csv(\"data/faculty.csv\") ; \n",
    "        self.room_data = pd.read_csv('data/room.csv') ; \n",
    "        self.subject_data = pd.read_csv('data/subject.csv') ;\n",
    "        self.test_data = pd.read_csv('data/test.csv') ;\n",
    "        \n",
    "        faculty_data = self.faculty_data[['facultyId' , 'facultyName' , 'facultyType']]\n",
    "        room_data = self.room_data[['roomId' , 'roomType' , 'roomNo']]\n",
    "        subject_data = self.subject_data[['subjectId' , 'subjectName' , 'subjectType' , 'credits']]\n",
    "        test_data = self.test_data[['batchID' , 'subjectID' , 'facultyID1' , 'facultyID2']]\n",
    "\n",
    "        \n",
    "        self.allotments = []\n",
    "        self.faculty_to_day_hour_slot_map = {}\n",
    "        self.faculties = set \n",
    "        obj =faculty()\n",
    "        print(obj) ; \n",
    "        \n",
    "        for i in range(faculty_data.count().facultyId):\n",
    "            self.faculties.add(faculty(self.faculty_data.loc[i].facultyId , self.faculty_data.loc[i].facultyName , self.faculty_data.loc[i].facultyType))\n",
    "        \n",
    "        \n",
    "        for day in ['mon', 'tue' , 'wed' , 'thu' , 'fri' , 'sat']:\n",
    "            for hour in range(8):\n",
    "                for faculty in self.faculties:\n",
    "                    self.faculty_to_day_hour_slot_map[faculty][day][hour] = {alloted : False} ;\n",
    "                    \n",
    "    \n",
    "    def allot_slots(self):\n",
    "        pass;\n",
    "                    \n",
    "    \n",
    "    def check_allotment_validity(self , allotment ):\n",
    "        for allots in self.allotments:\n",
    "            pass ; \n",
    "            \n"
   ]
  },
  {
   "cell_type": "code",
   "execution_count": 13,
   "metadata": {},
   "outputs": [],
   "source": [
    "faculty_data = pd.read_csv(\"data/faculty.csv\") ; \n",
    "room_data = pd.read_csv('data/room.csv') ; \n",
    "subject_data = pd.read_csv('data/subject.csv') ;\n",
    "test_data = pd.read_csv('data/test.csv') ;"
   ]
  },
  {
   "cell_type": "code",
   "execution_count": 75,
   "metadata": {
    "scrolled": false
   },
   "outputs": [],
   "source": [
    "faculty_data = faculty_data[['facultyId' , 'facultyName' , 'facultyType']]\n",
    "room_data = room_data[['roomId' , 'roomType' , 'roomNo']]\n",
    "subject_data = subject_data[['subjectId' , 'subjectName' , 'subjectType' , 'credits']]\n",
    "test_data = test_data[['batchID' , 'subjectID' , 'facultyID1' , 'facultyID2']]\n"
   ]
  }
 ],
 "metadata": {
  "kernelspec": {
   "display_name": "Python 3",
   "language": "python",
   "name": "python3"
  },
  "language_info": {
   "codemirror_mode": {
    "name": "ipython",
    "version": 3
   },
   "file_extension": ".py",
   "mimetype": "text/x-python",
   "name": "python",
   "nbconvert_exporter": "python",
   "pygments_lexer": "ipython3",
   "version": "3.6.5"
  }
 },
 "nbformat": 4,
 "nbformat_minor": 2
}
