{
 "cells": [
  {
   "cell_type": "code",
   "execution_count": 12,
   "metadata": {},
   "outputs": [],
   "source": [
    "import pandas as pd ; \n",
    "import numpy as np \n",
    "import time , os , sys , random\n",
    "import sqlite3\n",
    "\n",
    "\n",
    "def convert_db_data_to_csv(table_name , connection  , path = './data/' , filename=\"mydata.csv\" ):\n",
    "    df = pd.DataFrame(pd.read_sql('select * from '+table_name , connection)) ; \n",
    "    df.to_csv(os.path.join(path , filename)) ; \n",
    "\n",
    "\n",
    "\n"
   ]
  },
  {
   "cell_type": "code",
   "execution_count": 135,
   "metadata": {},
   "outputs": [],
   "source": [
    "class allotment:\n",
    "    def __init__(self , subjectid ,  facultyid1 , facultyid2 , roomid , dayno , hour , subjectname='' ):\n",
    "        self.subjectid =subjectid ; \n",
    "        self.subjectname = subjectname\n",
    "        self.facultyid1 = facultyid1\n",
    "        self.facultyid2 = facultyid2\n",
    "        self.roomid = roomid\n",
    "        self.dayno = dayno\n",
    "        self.hour = hour\n",
    "        \n",
    "\n",
    "class faculty:\n",
    "    def __init__(self , fid , fname , ftype):\n",
    "        self.id , self.name , self.type = fid , fname , ftype ; \n",
    "    def __str__(self):\n",
    "        return \"< ID : {} , Name : {}  , type : {}  >\".format(self.id , self.name , self.type) ;\n",
    "    def __repr__(self):\n",
    "        return self.__str__() ;\n",
    "        \n",
    "        \n",
    "\n",
    "\n",
    "class Timetable:\n",
    "    def __init__(self):\n",
    "        self.faculty_data = pd.read_csv(\"data/faculty.csv\") ; \n",
    "        self.room_data = pd.read_csv('data/room.csv') ; \n",
    "        self.subject_data = pd.read_csv('data/subject.csv') ;\n",
    "        self.test_data = pd.read_csv('data/test.csv') ;\n",
    "        \n",
    "        faculty_data = self.faculty_data[['facultyId' , 'facultyName' , 'facultyType']]\n",
    "        room_data = self.room_data[['roomId' , 'roomType' , 'roomNo']]\n",
    "        subject_data = self.subject_data[['subjectId' , 'subjectName' , 'subjectType' , 'credits']]\n",
    "        test_data = self.test_data[['batchID' , 'subjectID' , 'facultyID1' , 'facultyID2']]\n",
    "\n",
    "        \n",
    "        self.allotments = []\n",
    "        self.faculty_to_day_hour_slot_map = {}\n",
    "        self.faculties = set()\n",
    "        \n",
    "#         Create faculties using the data\n",
    "        for i in range(faculty_data.count().facultyId):\n",
    "            self.faculties.add(faculty(self.faculty_data.loc[i].facultyId , self.faculty_data.loc[i].facultyName , self.faculty_data.loc[i].facultyType))\n",
    "        \n",
    "        \n",
    "#         Initialize the faculties to be not allocated to all the hours of all days\n",
    "        for day in ['mon', 'tue' , 'wed' , 'thu' , 'fri' , 'sat']:\n",
    "            for hour in range(8):\n",
    "                for faculty_object in self.faculties:\n",
    "                    self.faculty_to_day_hour_slot_map[faculty] = {\n",
    "                        day : {\n",
    "                            hour : {\n",
    "                                'alloted' : False} \n",
    "                        }\n",
    "                    };\n",
    "                    \n",
    "    \n",
    "    def allot_slots(self):\n",
    "        pass;\n",
    "                    \n",
    "    \n",
    "    def check_allotment_validity(self , allotment ):\n",
    "        for allots in self.allotments:\n",
    "            pass ; \n",
    "            \n"
   ]
  },
  {
   "cell_type": "code",
   "execution_count": 13,
   "metadata": {},
   "outputs": [],
   "source": [
    "faculty_data = pd.read_csv(\"data/faculty.csv\") ; \n",
    "room_data = pd.read_csv('data/room.csv') ; \n",
    "subject_data = pd.read_csv('data/subject.csv') ;\n",
    "test_data = pd.read_csv('data/test.csv') ;"
   ]
  },
  {
   "cell_type": "code",
   "execution_count": 106,
   "metadata": {
    "scrolled": false
   },
   "outputs": [],
   "source": [
    "faculty_data = faculty_data[['facultyId' , 'facultyName' , 'facultyType']]\n",
    "room_data = room_data[['roomId' , 'roomType' , 'roomNo']]\n",
    "subject_data = subject_data[['subjectId' , 'subjectName' , 'subjectType' , 'credits']]\n",
    "test_data = test_data[['batchID' , 'subjectID' , 'facultyID1' , 'facultyID2']]\n"
   ]
  },
  {
   "cell_type": "code",
   "execution_count": 137,
   "metadata": {},
   "outputs": [
    {
     "data": {
      "text/plain": [
       "{< ID : 1 , Name : Dr. R Sumathi  , type : 0  >,\n",
       " < ID : 10 , Name : A H Shanthakumara  , type : 3  >,\n",
       " < ID : 11 , Name : A V Krishna Mohan  , type : 3  >,\n",
       " < ID : 12 , Name : G Bhaskar  , type : 3  >,\n",
       " < ID : 13 , Name : K Srinivasa  , type : 3  >,\n",
       " < ID : 14 , Name : M Raghavendra  , type : 3  >,\n",
       " < ID : 15 , Name : M Kavitha  , type : 3  >,\n",
       " < ID : 16 , Name : K R PrasannaKumar  , type : 3  >,\n",
       " < ID : 17 , Name : S Thejaswini  , type : 3  >,\n",
       " < ID : 18 , Name : V Ravi  , type : 3  >,\n",
       " < ID : 19 , Name : S Nayana  , type : 3  >,\n",
       " < ID : 2 , Name : Dr. N R Sunitha  , type : 0  >,\n",
       " < ID : 20 , Name : Nousheen Taj  , type : 3  >,\n",
       " < ID : 21 , Name : R M Savithramma  , type : 3  >,\n",
       " < ID : 22 , Name : S P Gururaj  , type : 3  >,\n",
       " < ID : 23 , Name : E Guruprasad  , type : 3  >,\n",
       " < ID : 24 , Name : H D Kallinatha  , type : 3  >,\n",
       " < ID : 25 , Name : H K Vedamurthy  , type : 3  >,\n",
       " < ID : 26 , Name : B P Ashwini  , type : 3  >,\n",
       " < ID : 27 , Name : C P Prabodh  , type : 3  >,\n",
       " < ID : 28 , Name : K S Chandraprabha  , type : 3  >,\n",
       " < ID : 29 , Name : K Bhargavi  , type : 3  >,\n",
       " < ID : 3 , Name : Dr. R Sathish  , type : 0  >,\n",
       " < ID : 30 , Name : G S Thejas  , type : 3  >,\n",
       " < ID : 31 , Name : Shruti K  , type : 3  >,\n",
       " < ID : 32 , Name : Prema S  , type : 3  >,\n",
       " < ID : 33 , Name : Shwetha A N  , type : 3  >,\n",
       " < ID : 34 , Name : Santhosh S Patil  , type : 3  >,\n",
       " < ID : 35 , Name : Ashwini N S  , type : 3  >,\n",
       " < ID : 36 , Name : Srujan S N  , type : 3  >,\n",
       " < ID : 37 , Name : Anirudhha Prabhu B P  , type : 3  >,\n",
       " < ID : 38 , Name : Rashmi T V  , type : 3  >,\n",
       " < ID : 39 , Name : Goura A Koti  , type : 3  >,\n",
       " < ID : 4 , Name : Dr. Y S Nijagunarya  , type : 0  >,\n",
       " < ID : 40 , Name : Prithvi M G  , type : 3  >,\n",
       " < ID : 41 , Name : S Suresh Kumar  , type : 3  >,\n",
       " < ID : 42 , Name : nan  , type : 3  >,\n",
       " < ID : 43 , Name : Chethana M S  , type : 3  >,\n",
       " < ID : 44 , Name : Siddagangamma  , type : 3  >,\n",
       " < ID : 45 , Name : Ranganath  , type : 3  >,\n",
       " < ID : 46 , Name : G J Manjula  , type : 0  >,\n",
       " < ID : 47 , Name : P S K Reddy  , type : 0  >,\n",
       " < ID : 48 , Name : CIPE  , type : 3  >,\n",
       " < ID : 49 , Name : Prasanna B R  , type : 0  >,\n",
       " < ID : 5 , Name : Dr. A S Poornima  , type : 0  >,\n",
       " < ID : 50 , Name : Kavitha G N  , type : 2  >,\n",
       " < ID : 51 , Name : PATIL HP  , type : 0  >,\n",
       " < ID : 6 , Name : Dr. A S Manjunath  , type : 1  >,\n",
       " < ID : 7 , Name : Dr. K N Sreenath  , type : 2  >,\n",
       " < ID : 8 , Name : Dr. M B Nirmala  , type : 2  >,\n",
       " < ID : 9 , Name : K G Manjunath  , type : 3  >}"
      ]
     },
     "execution_count": 137,
     "metadata": {},
     "output_type": "execute_result"
    }
   ],
   "source": [
    "obj =Timetable()\n",
    "obj.faculties"
   ]
  },
  {
   "cell_type": "code",
   "execution_count": null,
   "metadata": {},
   "outputs": [],
   "source": []
  }
 ],
 "metadata": {
  "kernelspec": {
   "display_name": "Python 3",
   "language": "python",
   "name": "python3"
  },
  "language_info": {
   "codemirror_mode": {
    "name": "ipython",
    "version": 3
   },
   "file_extension": ".py",
   "mimetype": "text/x-python",
   "name": "python",
   "nbconvert_exporter": "python",
   "pygments_lexer": "ipython3",
   "version": "3.6.5"
  }
 },
 "nbformat": 4,
 "nbformat_minor": 2
}
